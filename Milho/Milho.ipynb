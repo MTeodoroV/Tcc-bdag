{
 "cells": [
  {
   "cell_type": "code",
   "execution_count": 2,
   "metadata": {},
   "outputs": [],
   "source": [
    "import numpy as np\n",
    "import pandas as pd\n",
    "import tensorflow as tf\n",
    "from sklearn.metrics import accuracy_score\n",
    "from sklearn.model_selection import train_test_split\n",
    "from sklearn.preprocessing import MinMaxScaler\n",
    "from sklearn.linear_model import LinearRegression\n",
    "from sklearn.metrics import mean_absolute_error\n",
    "from sklearn.metrics import mean_squared_error, r2_score\n",
    "from sklearn.neural_network import MLPRegressor\n",
    "from sklearn.model_selection import train_test_split\n",
    "from sklearn.naive_bayes import GaussianNB\n",
    "from sklearn.model_selection import cross_val_score\n",
    "from sklearn.tree import DecisionTreeRegressor\n",
    "from sklearn.dummy import DummyRegressor\n",
    "from sklearn import linear_model\n",
    "from sklearn.neighbors import KNeighborsRegressor\n",
    "import matplotlib.pyplot as plt"
   ]
  },
  {
   "cell_type": "code",
   "execution_count": 3,
   "metadata": {},
   "outputs": [
    {
     "data": {
      "text/html": [
       "<div>\n",
       "<style scoped>\n",
       "    .dataframe tbody tr th:only-of-type {\n",
       "        vertical-align: middle;\n",
       "    }\n",
       "\n",
       "    .dataframe tbody tr th {\n",
       "        vertical-align: top;\n",
       "    }\n",
       "\n",
       "    .dataframe thead th {\n",
       "        text-align: right;\n",
       "    }\n",
       "</style>\n",
       "<table border=\"1\" class=\"dataframe\">\n",
       "  <thead>\n",
       "    <tr style=\"text-align: right;\">\n",
       "      <th></th>\n",
       "      <th>dollar</th>\n",
       "      <th>yesterday</th>\n",
       "      <th>before_yesterday</th>\n",
       "      <th>variation</th>\n",
       "      <th>arroz</th>\n",
       "      <th>price</th>\n",
       "    </tr>\n",
       "    <tr>\n",
       "      <th>date</th>\n",
       "      <th></th>\n",
       "      <th></th>\n",
       "      <th></th>\n",
       "      <th></th>\n",
       "      <th></th>\n",
       "      <th></th>\n",
       "    </tr>\n",
       "  </thead>\n",
       "  <tbody>\n",
       "    <tr>\n",
       "      <th>2010-06-01</th>\n",
       "      <td>1.74</td>\n",
       "      <td>20.40</td>\n",
       "      <td>20.39</td>\n",
       "      <td>-0.01</td>\n",
       "      <td>31.71</td>\n",
       "      <td>20.25</td>\n",
       "    </tr>\n",
       "    <tr>\n",
       "      <th>2010-07-01</th>\n",
       "      <td>1.75</td>\n",
       "      <td>20.25</td>\n",
       "      <td>20.40</td>\n",
       "      <td>0.15</td>\n",
       "      <td>32.13</td>\n",
       "      <td>20.28</td>\n",
       "    </tr>\n",
       "    <tr>\n",
       "      <th>2010-08-01</th>\n",
       "      <td>1.73</td>\n",
       "      <td>20.28</td>\n",
       "      <td>20.25</td>\n",
       "      <td>-0.03</td>\n",
       "      <td>32.19</td>\n",
       "      <td>20.18</td>\n",
       "    </tr>\n",
       "    <tr>\n",
       "      <th>2010-11-01</th>\n",
       "      <td>1.74</td>\n",
       "      <td>20.18</td>\n",
       "      <td>20.28</td>\n",
       "      <td>0.10</td>\n",
       "      <td>32.72</td>\n",
       "      <td>20.19</td>\n",
       "    </tr>\n",
       "    <tr>\n",
       "      <th>2010-12-01</th>\n",
       "      <td>1.75</td>\n",
       "      <td>20.19</td>\n",
       "      <td>20.18</td>\n",
       "      <td>-0.01</td>\n",
       "      <td>32.82</td>\n",
       "      <td>19.89</td>\n",
       "    </tr>\n",
       "    <tr>\n",
       "      <th>...</th>\n",
       "      <td>...</td>\n",
       "      <td>...</td>\n",
       "      <td>...</td>\n",
       "      <td>...</td>\n",
       "      <td>...</td>\n",
       "      <td>...</td>\n",
       "    </tr>\n",
       "    <tr>\n",
       "      <th>2020-12-21</th>\n",
       "      <td>5.09</td>\n",
       "      <td>74.22</td>\n",
       "      <td>74.11</td>\n",
       "      <td>-0.11</td>\n",
       "      <td>94.30</td>\n",
       "      <td>75.10</td>\n",
       "    </tr>\n",
       "    <tr>\n",
       "      <th>2020-12-22</th>\n",
       "      <td>5.13</td>\n",
       "      <td>75.10</td>\n",
       "      <td>74.22</td>\n",
       "      <td>-0.88</td>\n",
       "      <td>94.13</td>\n",
       "      <td>77.34</td>\n",
       "    </tr>\n",
       "    <tr>\n",
       "      <th>2020-12-23</th>\n",
       "      <td>5.20</td>\n",
       "      <td>77.34</td>\n",
       "      <td>75.10</td>\n",
       "      <td>-2.24</td>\n",
       "      <td>94.25</td>\n",
       "      <td>77.60</td>\n",
       "    </tr>\n",
       "    <tr>\n",
       "      <th>2020-12-28</th>\n",
       "      <td>5.24</td>\n",
       "      <td>77.60</td>\n",
       "      <td>77.34</td>\n",
       "      <td>-0.26</td>\n",
       "      <td>94.17</td>\n",
       "      <td>78.02</td>\n",
       "    </tr>\n",
       "    <tr>\n",
       "      <th>2020-12-29</th>\n",
       "      <td>5.18</td>\n",
       "      <td>78.02</td>\n",
       "      <td>77.60</td>\n",
       "      <td>-0.42</td>\n",
       "      <td>94.12</td>\n",
       "      <td>78.45</td>\n",
       "    </tr>\n",
       "  </tbody>\n",
       "</table>\n",
       "<p>2737 rows × 6 columns</p>\n",
       "</div>"
      ],
      "text/plain": [
       "            dollar  yesterday  before_yesterday  variation  arroz  price\n",
       "date                                                                    \n",
       "2010-06-01    1.74      20.40             20.39      -0.01  31.71  20.25\n",
       "2010-07-01    1.75      20.25             20.40       0.15  32.13  20.28\n",
       "2010-08-01    1.73      20.28             20.25      -0.03  32.19  20.18\n",
       "2010-11-01    1.74      20.18             20.28       0.10  32.72  20.19\n",
       "2010-12-01    1.75      20.19             20.18      -0.01  32.82  19.89\n",
       "...            ...        ...               ...        ...    ...    ...\n",
       "2020-12-21    5.09      74.22             74.11      -0.11  94.30  75.10\n",
       "2020-12-22    5.13      75.10             74.22      -0.88  94.13  77.34\n",
       "2020-12-23    5.20      77.34             75.10      -2.24  94.25  77.60\n",
       "2020-12-28    5.24      77.60             77.34      -0.26  94.17  78.02\n",
       "2020-12-29    5.18      78.02             77.60      -0.42  94.12  78.45\n",
       "\n",
       "[2737 rows x 6 columns]"
      ]
     },
     "execution_count": 3,
     "metadata": {},
     "output_type": "execute_result"
    }
   ],
   "source": [
    "df = pd.read_csv('Milho_tcc.csv')\n",
    "df['date'] = pd.to_datetime(df['date'])\n",
    "df = df.set_index(\"date\")\n",
    "df.head(-1)"
   ]
  },
  {
   "cell_type": "code",
   "execution_count": 24,
   "metadata": {
    "scrolled": true
   },
   "outputs": [
    {
     "name": "stdout",
     "output_type": "stream",
     "text": [
      "TRAIN:  [2010] TEST:  [2011]\n",
      "Linear Regression:  0.9565504380827428\n",
      "Tree:  -1.119858810832493\n",
      "MLP:  0.10737878836926396\n",
      "Bayers:  0.9568626127976982\n",
      "KNN:  -2.132888837221778\n",
      "Dummy:  -46.3980258982221 \n",
      "\n",
      "TRAIN:  [2010, 2011] TEST:  [2012]\n",
      "Linear Regression:  0.9923766266521334\n",
      "Tree:  0.8614941171230022\n",
      "MLP:  0.9912058207574038\n",
      "Bayers:  0.9922970817279978\n",
      "KNN:  0.7456858894719975\n",
      "Dummy:  -1.1524078031462648 \n",
      "\n",
      "TRAIN:  [2010, 2011, 2012] TEST:  [2013]\n",
      "Linear Regression:  0.9951742457426194\n",
      "Tree:  0.873507083484913\n",
      "MLP:  0.9944211036999784\n",
      "Bayers:  0.9951956016051361\n",
      "KNN:  0.7657271726808622\n",
      "Dummy:  -0.006958695851575714 \n",
      "\n",
      "TRAIN:  [2010, 2011, 2012, 2013] TEST:  [2014]\n",
      "Linear Regression:  0.9949873606403308\n",
      "Tree:  0.968510770813718\n",
      "MLP:  0.9943023680207194\n",
      "Bayers:  0.9949998342788372\n",
      "KNN:  0.9272485850600309\n",
      "Dummy:  -0.007919667941955089 \n",
      "\n",
      "TRAIN:  [2010, 2011, 2012, 2013, 2014] TEST:  [2015]\n",
      "Linear Regression:  0.9950643352081874\n",
      "Tree:  0.9862528320529881\n",
      "MLP:  0.9823110153693406\n",
      "Bayers:  0.9950880888444126\n",
      "KNN:  0.9804156634751909\n",
      "Dummy:  -0.34187313869747205 \n",
      "\n",
      "TRAIN:  [2010, 2011, 2012, 2013, 2014, 2015] TEST:  [2016]\n",
      "Linear Regression:  0.9910623991539395\n",
      "Tree:  -3.234585435202855\n",
      "MLP:  0.9914613468097507\n",
      "Bayers:  0.9910878968948509\n",
      "KNN:  -3.1504349072391236\n",
      "Dummy:  -14.118931634486255 \n",
      "\n",
      "TRAIN:  [2010, 2011, 2012, 2013, 2014, 2015, 2016] TEST:  [2017]\n",
      "Linear Regression:  0.9921200117337101\n",
      "Tree:  0.9841551491854565\n",
      "MLP:  0.9913887770850982\n",
      "Bayers:  0.9921213319935169\n",
      "KNN:  0.9642806769973697\n",
      "Dummy:  -0.027074823386247227 \n",
      "\n",
      "TRAIN:  [2010, 2011, 2012, 2013, 2014, 2015, 2016, 2017] TEST:  [2018]\n",
      "Linear Regression:  0.9829873234652939\n",
      "Tree:  0.9633896382504307\n",
      "MLP:  0.9827336181775195\n",
      "Bayers:  0.9830310812830134\n",
      "KNN:  0.8896150628012622\n",
      "Dummy:  -7.109356411005379 \n",
      "\n",
      "TRAIN:  [2010, 2011, 2012, 2013, 2014, 2015, 2016, 2017, 2018] TEST:  [2019]\n",
      "Linear Regression:  0.9902710616677812\n",
      "Tree:  0.9728372673329466\n",
      "MLP:  0.9899304930870526\n",
      "Bayers:  0.9902736892618335\n",
      "KNN:  0.952748365684356\n",
      "Dummy:  -5.080202839331523 \n",
      "\n",
      "TRAIN:  [2010, 2011, 2012, 2013, 2014, 2015, 2016, 2017, 2018, 2019] TEST:  [2020]\n",
      "Linear Regression:  0.9970104752764827\n",
      "Tree:  -0.18541524799786768\n",
      "MLP:  0.9955050885696858\n",
      "Bayers:  0.9970087718269577\n",
      "KNN:  -0.5775093295328098\n",
      "Dummy:  -6.104843640202341 \n",
      "\n"
     ]
    }
   ],
   "source": [
    "year_list = df.index.year.unique().tolist()\n",
    "splits = {'train': [], 'test': []}\n",
    "\n",
    "for idx, yr in enumerate(year_list[:-1]):\n",
    "    train_yr = year_list[:idx+1]\n",
    "    test_yr = [year_list[idx+1]]\n",
    "    print('TRAIN: ', train_yr, 'TEST: ',test_yr)\n",
    "    \n",
    "    splits['train'].append(df.loc[df.index.year.isin(train_yr), :])\n",
    "    splits['test'].append(df.loc[df.index.year.isin(test_yr), :])\n",
    "    \n",
    "    X_train = splits['train'][idx].drop(['price'], axis = 1).values # X\n",
    "    y_train = splits['train'][idx]['price'].values # Y\n",
    "    \n",
    "    X_test =  splits['test'][idx].drop(['price'], axis = 1).values\n",
    "    y_test = splits['test'][idx]['price'].values\n",
    "    \n",
    "#     Linear Regression\n",
    "    reg = LinearRegression().fit(X_train, y_train)\n",
    "    predi_regr = reg.predict(X_test)\n",
    "    print(\"Linear Regression: \", r2_score(y_test, predi_regr))     \n",
    "\n",
    "\n",
    "#     tree decision\n",
    "    regressor = DecisionTreeRegressor(random_state=0).fit(X_train, y_train)\n",
    "    pred_tree = regressor.predict(X_test)\n",
    "    print(\"Tree: \", r2_score(y_test, pred_tree))\n",
    "\n",
    "\n",
    "#     MLP\n",
    "    mlp = MLPRegressor(random_state=1, max_iter=500).fit(X_train, y_train)\n",
    "    pred_mlp = mlp.predict(X_test)\n",
    "    print(\"MLP: \", r2_score(y_test, pred_mlp))\n",
    "\n",
    "#     Bayers\n",
    "    reg = linear_model.BayesianRidge().fit(X_train, y_train)\n",
    "    pred_bay = reg.predict(X_test)\n",
    "    print(\"Bayers: \", r2_score(y_test, pred_bay))\n",
    "    \n",
    "#     KNN\n",
    "    neigh = KNeighborsRegressor(n_neighbors=5).fit(X_train, y_train)\n",
    "    pred_knn = neigh.predict(X_test)\n",
    "    print(\"KNN: \", r2_score(y_test, pred_knn))\n",
    "    \n",
    "#     Dummy\n",
    "    dummy_regr = DummyRegressor(strategy=\"mean\").fit(X_train, y_train)\n",
    "    pred_dummy = dummy_regr.predict(X_test)\n",
    "    print(\"Dummy: \", r2_score(y_test, pred_dummy), \"\\n\")"
   ]
  },
  {
   "cell_type": "code",
   "execution_count": 5,
   "metadata": {},
   "outputs": [
    {
     "data": {
      "text/plain": [
       "array([ 0.05439335,  0.76367963,  0.23385203, -0.52982759, -0.00395636])"
      ]
     },
     "execution_count": 5,
     "metadata": {},
     "output_type": "execute_result"
    }
   ],
   "source": [
    "reg.coef_"
   ]
  },
  {
   "cell_type": "code",
   "execution_count": 6,
   "metadata": {},
   "outputs": [
    {
     "data": {
      "text/plain": [
       "0.07851316025336175"
      ]
     },
     "execution_count": 6,
     "metadata": {},
     "output_type": "execute_result"
    }
   ],
   "source": [
    "reg.intercept_"
   ]
  },
  {
   "cell_type": "code",
   "execution_count": 9,
   "metadata": {},
   "outputs": [
    {
     "data": {
      "text/plain": [
       "<matplotlib.collections.PathCollection at 0x7fbd092b63c8>"
      ]
     },
     "execution_count": 9,
     "metadata": {},
     "output_type": "execute_result"
    },
    {
     "data": {
      "image/png": "[encoded data removed]",
      "text/plain": [
       "<Figure size 432x288 with 1 Axes>"
      ]
     },
     "metadata": {
      "needs_background": "light"
     },
     "output_type": "display_data"
    }
   ],
   "source": [
    "plt.scatter(y_test,predi_regr)"
   ]
  },
  {
   "cell_type": "code",
   "execution_count": 28,
   "metadata": {},
   "outputs": [
    {
     "data": {
      "text/plain": [
       "<matplotlib.legend.Legend at 0x7fbceca494a8>"
      ]
     },
     "execution_count": 28,
     "metadata": {},
     "output_type": "execute_result"
    },
    {
     "data": {
      "image/png": "[encoded data removed]",
      "text/plain": [
       "<Figure size 1152x648 with 1 Axes>"
      ]
     },
     "metadata": {
      "needs_background": "light"
     },
     "output_type": "display_data"
    }
   ],
   "source": [
    "plt.subplots(figsize=(16, 9))\n",
    "plt.plot(y_test, label='Preço', color='blue')\n",
    "plt.plot(predi_regr, label='Valor previsto' , color='red')\n",
    "plt.ylabel('Preço Milho')\n",
    "plt.xlabel('Periodo')\n",
    "plt.legend()"
   ]
  },
  {
   "cell_type": "code",
   "execution_count": null,
   "metadata": {},
   "outputs": [],
   "source": []
  }
 ],
 "metadata": {
  "kernelspec": {
   "display_name": "Python 3",
   "language": "python",
   "name": "python3"
  },
  "language_info": {
   "codemirror_mode": {
    "name": "ipython",
    "version": 3
   },
   "file_extension": ".py",
   "mimetype": "text/x-python",
   "name": "python",
   "nbconvert_exporter": "python",
   "pygments_lexer": "ipython3",
   "version": "3.6.10"
  }
 },
 "nbformat": 4,
 "nbformat_minor": 4
}
